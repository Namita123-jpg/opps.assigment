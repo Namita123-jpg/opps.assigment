{
  "nbformat": 4,
  "nbformat_minor": 0,
  "metadata": {
    "colab": {
      "provenance": []
    },
    "kernelspec": {
      "name": "python3",
      "display_name": "Python 3"
    },
    "language_info": {
      "name": "python"
    }
  },
  "cells": [
    {
      "cell_type": "markdown",
      "source": [
        "1.What is Object-Oriented Programming (OOP)?"
      ],
      "metadata": {
        "id": "DGZUNiWdWJJA"
      }
    },
    {
      "cell_type": "markdown",
      "source": [
        "Object-oriented programming (OOP) is a programming paradigm that uses \"objects\" and their interactions to design computer programs. It involves organizing code into reusable units called objects, which contain data (attributes) and the functions (methods) that operate on that data.\n"
      ],
      "metadata": {
        "id": "M-vbe0ysWclz"
      }
    },
    {
      "cell_type": "markdown",
      "source": [
        "2. What is a class in OOP?\n"
      ],
      "metadata": {
        "id": "cCxyZ-XqWjfG"
      }
    },
    {
      "cell_type": "markdown",
      "source": [
        "In Object-Oriented Programming (OOP), a class is a blueprint or template for creating objects. It defines the properties (data members) and behaviors (member functions or methods) that objects of that class will have. Essentially, a class describes a group of objects with similar characteristics and actions"
      ],
      "metadata": {
        "id": "HQE3SZf_W00y"
      }
    },
    {
      "cell_type": "markdown",
      "source": [
        "3.What is an object in OOP?"
      ],
      "metadata": {
        "id": "ly3j6rEAW9Ds"
      }
    },
    {
      "cell_type": "markdown",
      "source": [
        "In Object-Oriented Programming (OOP), an object is a fundamental unit that encapsulates data and the code that operates on that data. It's essentially a real-world entity with specific characteristics (data) and behaviors (methods). Objects are created from classes, which act as templates or blueprints."
      ],
      "metadata": {
        "id": "A53FGspRXPLH"
      }
    },
    {
      "cell_type": "markdown",
      "source": [
        "4.What is the difference between abstraction and encapsulation?"
      ],
      "metadata": {
        "id": "TYeP-hdRXSXN"
      }
    },
    {
      "cell_type": "markdown",
      "source": [
        "Abstraction focuses on simplifying complex systems by exposing only the necessary functionality, while encapsulation bundles data and methods within a single unit, controlling access and ensuring data protection. In essence, abstraction deals with the \"what\" (the essential functionality), while encapsulation deals with the \"how\" (data and methods, and their access)."
      ],
      "metadata": {
        "id": "I3h2UXtBXYje"
      }
    },
    {
      "cell_type": "markdown",
      "source": [
        "5.What are dunder methods in Python?"
      ],
      "metadata": {
        "id": "N-DwGnciXi2_"
      }
    },
    {
      "cell_type": "markdown",
      "source": [
        "Dunder methods, also known as magic methods, are special methods in Python that have double underscores at the beginning and end of their names (e.g., __init__, __str__, __len__). They are used to define how objects of a class should behave in response to various operations, like arithmetic, comparisons, or indexing."
      ],
      "metadata": {
        "id": "S_wFlb-zXpS2"
      }
    },
    {
      "cell_type": "markdown",
      "source": [
        "6.Explain the concept of inheritance in OOP."
      ],
      "metadata": {
        "id": "2yYYgwSqXwE_"
      }
    },
    {
      "cell_type": "markdown",
      "source": [
        "Inheritance in Object-Oriented Programming (OOP) is a mechanism where a new class (child class or derived class) inherits attributes and methods from an existing class (parent class or base class). This allows for code reusability and promotes a hierarchical class structure. Essentially, a child class \"is a\" version of its parent class."
      ],
      "metadata": {
        "id": "7VLEig6_X1lb"
      }
    },
    {
      "cell_type": "code",
      "source": [],
      "metadata": {
        "id": "plL-qgk2X6op"
      },
      "execution_count": null,
      "outputs": []
    },
    {
      "cell_type": "markdown",
      "source": [
        "7.What is polymorphism in OOP."
      ],
      "metadata": {
        "id": "XX25I8nhX_nc"
      }
    },
    {
      "cell_type": "markdown",
      "source": [
        "In Object-Oriented Programming (OOP), polymorphism, meaning \"many forms,\" allows objects of different classes to be treated as objects of a common superclass. This enables code reusability and flexibility by allowing multiple classes to implement the same method in different ways."
      ],
      "metadata": {
        "id": "KQfEbxGjYTa4"
      }
    },
    {
      "cell_type": "markdown",
      "source": [
        "8.How is encapsulation achieved in Python?"
      ],
      "metadata": {
        "id": "MW7vIzayYY7k"
      }
    },
    {
      "cell_type": "markdown",
      "source": [
        "Encapsulation in Python is achieved by bundling data (attributes) and methods that operate on that data within a class, and controlling access to these members. This is primarily done through naming conventions rather than strict access modifiers like public, private, or protected found in other languages."
      ],
      "metadata": {
        "id": "u1zm6uBEYjUf"
      }
    },
    {
      "cell_type": "markdown",
      "source": [
        "9.What is a constructor in Python?"
      ],
      "metadata": {
        "id": "qhjAdEFUYnqF"
      }
    },
    {
      "cell_type": "markdown",
      "source": [
        "A constructor in Python is a special method within a class that is automatically called when an object of that class is created. Its primary purpose is to initialize the object's attributes or set up its initial state."
      ],
      "metadata": {
        "id": "Cqp0TKGmYtRo"
      }
    },
    {
      "cell_type": "markdown",
      "source": [
        "10.What are class and static methods in Python?"
      ],
      "metadata": {
        "id": "9iuwWzRKYk8q"
      }
    },
    {
      "cell_type": "markdown",
      "source": [
        "\n",
        "Class Methods\n",
        "They are bound to the class and not the instance of the class.\n",
        "They receive the class itself as the first argument, conventionally named cls.\n",
        "They can access and modify class-level attributes.\n",
        "They are defined using the @classmethod decorator.\n",
        "They are used for operations that involve the class itself, such as creating alternative constructors or modifying class-level data.\n",
        "\n",
        "\n",
        "\n",
        "Static Methods\n",
        "They are associated with the class but do not receive the instance or the class as an argument.\n",
        "They cannot access or modify instance-level or class-level attributes directly.\n",
        "They are defined using the @staticmethod decorator.\n",
        "They are used for utility functions that are related to the class but do not depend on its state.\n",
        "\n"
      ],
      "metadata": {
        "id": "CB4bXPbJZNW0"
      }
    },
    {
      "cell_type": "code",
      "source": [],
      "metadata": {
        "id": "fdyy-O51ZkJl"
      },
      "execution_count": null,
      "outputs": []
    },
    {
      "cell_type": "markdown",
      "source": [
        "11.What is method overloading in Python?\n"
      ],
      "metadata": {
        "id": "D7RWjHrhZp8x"
      }
    },
    {
      "cell_type": "markdown",
      "source": [
        "Method overloading is a feature in object-oriented programming that allows a class to have multiple methods with the same name but different parameters. This enables a single method name to perform different actions based on the arguments passed to it."
      ],
      "metadata": {
        "id": "r-etI3b_Z1te"
      }
    },
    {
      "cell_type": "markdown",
      "source": [
        "12.What is method overriding in OOP"
      ],
      "metadata": {
        "id": "SAYztXlAaOoW"
      }
    },
    {
      "cell_type": "markdown",
      "source": [
        "In Object-Oriented Programming (OOP), method overriding allows a subclass to provide a specific implementation of a method that is already defined in its superclass. This enables the subclass to modify or extend the behavior of the inherited method while maintaining the same method signature (name and parameters).\n",
        "Elaboration:"
      ],
      "metadata": {
        "id": "uKqpHKfJawGP"
      }
    },
    {
      "cell_type": "code",
      "source": [],
      "metadata": {
        "id": "cnEOZpWbaxAE"
      },
      "execution_count": null,
      "outputs": []
    },
    {
      "cell_type": "markdown",
      "source": [
        "13.What is a property decorator in Python?"
      ],
      "metadata": {
        "id": "tRcpqmd_bG_W"
      }
    },
    {
      "cell_type": "markdown",
      "source": [
        "In Python, the @property decorator is a built-in feature that allows you to define methods that act like attributes. It provides a way to manage how an attribute is accessed and modified, offering a mechanism to control access, perform computations, or validate data."
      ],
      "metadata": {
        "id": "c96Ak8urbRfH"
      }
    },
    {
      "cell_type": "markdown",
      "source": [
        "14.Why is polymorphism important in OOP?"
      ],
      "metadata": {
        "id": "k21Itn9Cbajk"
      }
    },
    {
      "cell_type": "markdown",
      "source": [
        "Polymorphism is crucial in OOP because it enables code reuse, flexibility, and maintainability. It allows different objects to share the same interface while having their own specific behaviors. This is achieved through inheritance, where subclasses inherit from a superclass or base class, and can then implement methods in a way that's unique to them."
      ],
      "metadata": {
        "id": "WvnszVI_blvj"
      }
    },
    {
      "cell_type": "markdown",
      "source": [
        "15.What is an abstract class in Python?"
      ],
      "metadata": {
        "id": "M32I9NEmbnoT"
      }
    },
    {
      "cell_type": "markdown",
      "source": [
        "An abstract class in Python is a class that cannot be instantiated directly. It serves as a blueprint for other classes, defining a common interface for a group of related classes. Abstract classes are created using the abc (Abstract Base Classes) module and are meant to be subclassed by other classes."
      ],
      "metadata": {
        "id": "ZPukbYc1bxxJ"
      }
    },
    {
      "cell_type": "code",
      "source": [],
      "metadata": {
        "id": "Zw1TV03Bb2ya"
      },
      "execution_count": null,
      "outputs": []
    },
    {
      "cell_type": "markdown",
      "source": [
        "16.What are the advantages of OOP?"
      ],
      "metadata": {
        "id": "fUjjZZttb5Zz"
      }
    },
    {
      "cell_type": "markdown",
      "source": [
        "Object-oriented programming (OOP) offers numerous advantages over other programming paradigms, including enhanced code organization, reusability, and maintainability. It facilitates modularity, making code easier to understand, debug, and modify. OOP also promotes code reuse through inheritance and polymorphism, leading to increased efficiency and productivity."
      ],
      "metadata": {
        "id": "4bIvjzajcItW"
      }
    },
    {
      "cell_type": "markdown",
      "source": [
        "17.What is the difference between a class variable and an instance variable?"
      ],
      "metadata": {
        "id": "6ppQMJpWcRk-"
      }
    },
    {
      "cell_type": "markdown",
      "source": [
        "Class Variable (Static Variable):\n",
        "Shared across instances:\n",
        "A single copy of a class variable exists for the entire class, and all instances of that class can access and modify it.\n",
        "Declared with the static keyword:\n",
        "In many programming languages, including Java and C++, you declare a class variable using the static keyword.\n",
        "\n",
        "Instance Variable:\n",
        "Unique to each instance:\n",
        "Each instance of a class has its own independent copy of an instance variable.\n",
        "Declared without the static keyword:\n",
        "In Java and C++, instance variables are typically declared without the static keyword.\n",
        "\n"
      ],
      "metadata": {
        "id": "iblLoJyQcV6k"
      }
    },
    {
      "cell_type": "markdown",
      "source": [
        "18.What is multiple inheritance in Python?"
      ],
      "metadata": {
        "id": "0wHQhpI3c6r9"
      }
    },
    {
      "cell_type": "markdown",
      "source": [
        "Multiple inheritance in Python is a feature that allows a class to inherit attributes and methods from more than one parent class. This is unlike single inheritance, where a class can only inherit from one parent."
      ],
      "metadata": {
        "id": "RWOoPB0mdI2U"
      }
    },
    {
      "cell_type": "markdown",
      "source": [
        "19. Explain the purpose of ‘’__str__’ and ‘__repr__’ ‘ methods in Python?\n"
      ],
      "metadata": {
        "id": "sd2w9sOtdMcJ"
      }
    },
    {
      "cell_type": "markdown",
      "source": [
        "In Python, the __str__ and __repr__ methods are special methods used to define how objects are represented as strings. They are often referred to as \"dunder\" methods due to the double underscores that prefix and suffix their names.\n",
        "\n",
        "__str__:\n",
        "This method is intended to return a human-readable, informal string representation of an object.\n",
        "It is primarily used when the str() function is called on an object or when the print() function is used to display the object.\n",
        "The goal of __str__ is to provide a string that is easily understood by the end-user.\n",
        "If the __str__ method is not defined for a class, Python will fall back to using the __repr__ method.\n",
        "\n",
        "__repr__:\n",
        "This method is intended to return an unambiguous, formal string representation of an object.\n",
        "It is primarily used for debugging, logging, and when the repr() function is called on an object.\n",
        "The goal of __repr__ is to provide a string that can be used to recreate the object or at least provide a detailed representation of its state.\n",
        "It is generally recommended that the string returned by __repr__ should be a valid Python expression that can be evaluated to produce an object with the same state."
      ],
      "metadata": {
        "id": "MAEDG-rseCed"
      }
    },
    {
      "cell_type": "markdown",
      "source": [
        "20.What is the significance of the ‘super()’ function in Python?"
      ],
      "metadata": {
        "id": "kjDouAxree9d"
      }
    },
    {
      "cell_type": "markdown",
      "source": [
        "The super() function in Python is used to access methods and properties of a parent class from within a child class. Its primary purpose is to facilitate inheritance and method overriding in object-oriented programming.\n",
        "\n",
        " 1.Accessing Parent Class Methods.\n",
        "\n",
        " 2.Method Overriding and Extension.\n",
        "\n",
        " 3.Initialization of Parent Class Attributes.\n",
        "\n",
        " 4.Avoiding Explicit Parent Class Referencing\n"
      ],
      "metadata": {
        "id": "gAGZSO2aepjH"
      }
    },
    {
      "cell_type": "markdown",
      "source": [
        "21.What is the significance of the __del__ method in Python?"
      ],
      "metadata": {
        "id": "0I52g14ffgwf"
      }
    },
    {
      "cell_type": "markdown",
      "source": [
        "The __del__ method in Python is a special method, often referred to as a destructor. It is automatically called when an object is about to be destroyed or garbage collected. This happens when there are no more references to the object."
      ],
      "metadata": {
        "id": "A3k3YTgBfoji"
      }
    },
    {
      "cell_type": "markdown",
      "source": [
        "22. What is the difference between @staticmethod and @classmethod in Python?"
      ],
      "metadata": {
        "id": "rKey64EWfoS9"
      }
    },
    {
      "cell_type": "markdown",
      "source": [
        "Both @staticmethod and @classmethod are decorators in Python used to define methods within a class that are not bound to an instance of the class. However, they have distinct differences in their behavior and use cases:\n",
        "\n",
        "@staticmethod:\n",
        "A static method is a function that belongs to the class but does not need access to the instance (self) or the class itself (cls).\n",
        "It behaves like a regular function within the class's namespace.\n",
        "It is defined using the @staticmethod decorator.\n",
        "It cannot access or modify the class or instance state directly.\n",
        "It is primarily used for utility functions that are logically related to the class but do not depend on any specific instance.\n",
        "\n",
        "@classmethod:\n",
        "A class method is a method that receives the class itself (cls) as the first argument.\n",
        "It is defined using the @classmethod decorator.\n",
        "It can access and modify class-level attributes.\n",
        "It cannot access or modify instance-level attributes directly.\n",
        "It is commonly used to create factory methods, which are alternative constructors for the class, or to modify class-specific behavior."
      ],
      "metadata": {
        "id": "NQklWu03fv4m"
      }
    },
    {
      "cell_type": "markdown",
      "source": [
        "23.How does polymorphism work in Python with inheritance?"
      ],
      "metadata": {
        "id": "ABcbwz_Ygknp"
      }
    },
    {
      "cell_type": "markdown",
      "source": [
        "Polymorphism, meaning \"many forms,\" enables objects of different classes to respond to the same method call in their own specific ways. In Python, this is commonly achieved through inheritance and method overriding.\n",
        "Inheritance: A child class inherits attributes and methods from its parent class. This establishes a \"is-a\" relationship, where a child class is a specialized version of its parent."
      ],
      "metadata": {
        "id": "p2KSJ9hQg6q_"
      }
    },
    {
      "cell_type": "markdown",
      "source": [
        "24.What is method chaining in Python OOP?"
      ],
      "metadata": {
        "id": "3sze3Oedg_3-"
      }
    },
    {
      "cell_type": "markdown",
      "source": [
        "Method chaining in Python is a programming technique that allows you to call multiple methods on an object in a single line of code. Each method in the chain returns the object itself, enabling subsequent methods to be called on the returned object. This approach enhances code readability and conciseness by eliminating the need for intermediate variables.\n",
        "To implement method chaining, each method in the class should return the object instance using return self. This allows the next method in the chain to be called on the same object."
      ],
      "metadata": {
        "id": "NfomV0kVhLI9"
      }
    },
    {
      "cell_type": "markdown",
      "source": [
        "25.What is the purpose of the __call__ method in Python?"
      ],
      "metadata": {
        "id": "Dp7I0SpBhMn8"
      }
    },
    {
      "cell_type": "markdown",
      "source": [
        "The __call__ method in Python enables instances of a class to be called as if they were functions. When an instance of a class is called, Python automatically invokes the __call__ method defined within that class.\n",
        "This feature allows you to create objects that behave like functions, offering greater flexibility and reusability. The __call__ method can accept arguments, similar to a regular function, and perform specific operations when the instance is called."
      ],
      "metadata": {
        "id": "WBmAy2VvheS6"
      }
    },
    {
      "cell_type": "markdown",
      "source": [
        "Practical Questions"
      ],
      "metadata": {
        "id": "eOIxV5Wxifzh"
      }
    },
    {
      "cell_type": "markdown",
      "source": [
        "1. Create a parent class Animal with a method speak() that prints a generic message. Create a child class Dog\n",
        "that overrides the speak() method to print \"Bark!\"."
      ],
      "metadata": {
        "id": "JfJ01Icqiw8P"
      }
    },
    {
      "cell_type": "code",
      "source": [
        "class Animal:\n",
        "    def speak(self):\n",
        "        print(\"The animal makes a sound.\")\n",
        "\n",
        "class Dog(Animal):\n",
        "    def speak(self):\n",
        "        print(\"Bark!\")\n",
        "\n",
        "# Example usage\n",
        "animal = Animal()\n",
        "animal.speak()\n",
        "\n",
        "baby = Dog()\n",
        "dog.speak()\n",
        "\n"
      ],
      "metadata": {
        "colab": {
          "base_uri": "https://localhost:8080/"
        },
        "id": "TV2PMtFbi-b5",
        "outputId": "82791cb2-77b6-4761-c61d-fde6bcd9861c"
      },
      "execution_count": 4,
      "outputs": [
        {
          "output_type": "stream",
          "name": "stdout",
          "text": [
            "The animal makes a sound.\n",
            "Bark!\n"
          ]
        }
      ]
    },
    {
      "cell_type": "code",
      "source": [
        "animal = Animal()"
      ],
      "metadata": {
        "id": "sFtVZ5IJkZ-l"
      },
      "execution_count": 2,
      "outputs": []
    },
    {
      "cell_type": "code",
      "source": [
        "animal.speak()"
      ],
      "metadata": {
        "colab": {
          "base_uri": "https://localhost:8080/"
        },
        "id": "Q4_36Oykk25s",
        "outputId": "cc03ad3a-500c-4124-f2b3-d3138ad23754"
      },
      "execution_count": 3,
      "outputs": [
        {
          "output_type": "stream",
          "name": "stdout",
          "text": [
            "The animal makes a sound.\n"
          ]
        }
      ]
    },
    {
      "cell_type": "code",
      "source": [
        "baby = Dog()\n"
      ],
      "metadata": {
        "id": "-1k5zvL_mE-N"
      },
      "execution_count": 5,
      "outputs": []
    },
    {
      "cell_type": "code",
      "source": [
        "dog.speak()"
      ],
      "metadata": {
        "colab": {
          "base_uri": "https://localhost:8080/"
        },
        "id": "l7TUQdBJmKNQ",
        "outputId": "7747ca5d-3e02-4708-9339-a9b3e8b5fe6d"
      },
      "execution_count": 7,
      "outputs": [
        {
          "output_type": "stream",
          "name": "stdout",
          "text": [
            "Bark!\n"
          ]
        }
      ]
    },
    {
      "cell_type": "markdown",
      "source": [
        "2. Write a program to create an abstract class Shape with a method area(). Derive classes Circle and Rectangle\n",
        "from it and implement the area() method in both.\n",
        "\n",
        "\n"
      ],
      "metadata": {
        "id": "cJPi8bS1lGtQ"
      }
    },
    {
      "cell_type": "code",
      "source": [
        "from abc import ABC, abstractmethod\n",
        "import math\n",
        "\n",
        "class Shape(ABC):\n",
        "    @abstractmethod\n",
        "    def area(self):\n",
        "        pass\n",
        "\n",
        "class Circle(Shape):\n",
        "    def __init__(self, radius):\n",
        "        self.radius = radius\n",
        "\n",
        "    def area(self):\n",
        "        return math.pi * (self.radius ** 2)\n",
        "\n",
        "class Rectangle(Shape):\n",
        "    def __init__(self, length, breadth):\n",
        "        self.length = length\n",
        "        self.breadth = breadth\n",
        "\n",
        "    def area(self):\n",
        "        return self.length * self.breadth\n",
        "\n",
        "# Example usage\n",
        "circle = Circle(5)\n",
        "print(f\"Area of Circle: {circle.area():.2f}\")\n",
        "\n",
        "rectangle = Rectangle(4, 6)\n",
        "print(f\"Area of Rectangle: {rectangle.area():.2f}\")\n",
        "\n"
      ],
      "metadata": {
        "colab": {
          "base_uri": "https://localhost:8080/"
        },
        "id": "rYoF6NS8mzai",
        "outputId": "d4830908-f4bc-4b03-f58c-af62b0765a73"
      },
      "execution_count": 8,
      "outputs": [
        {
          "output_type": "stream",
          "name": "stdout",
          "text": [
            "Area of Circle: 78.54\n",
            "Area of Rectangle: 24.00\n"
          ]
        }
      ]
    },
    {
      "cell_type": "markdown",
      "source": [
        " 3.Implement a multi-level inheritance scenario where a class Vehicle has an attribute type. Derive a class Car\n",
        "and further derive a class ElectricCar that adds a battery attribute."
      ],
      "metadata": {
        "id": "MhxWfH_dm8-q"
      }
    },
    {
      "cell_type": "code",
      "source": [
        "class Vehicle:\n",
        "    def __init__(self, type):\n",
        "        self.type = type\n",
        "\n",
        "    def display_type(self):\n",
        "        print(f\"Vehicle Type: {self.type}\")\n",
        "\n",
        "class Car(Vehicle):\n",
        "    def __init__(self, type, brand, model):\n",
        "        super().__init__(type)\n",
        "        self.brand = brand\n",
        "        self.model = model\n",
        "\n",
        "    def display_details(self):\n",
        "        self.display_type()\n",
        "        print(f\"Brand: {self.brand}\")\n",
        "        print(f\"Model: {self.model}\")\n",
        "\n",
        "class ElectricCar(Car):\n",
        "    def __init__(self, type, brand, model, battery_capacity):\n",
        "        super().__init__(type, brand, model)\n",
        "        self.battery_capacity = battery_capacity\n",
        "\n",
        "    def display_details(self):\n",
        "        super().display_details()\n",
        "        print(f\"Battery Capacity: {self.battery_capacity} kWh\")\n",
        "\n",
        "# Example usage\n",
        "electric_car = ElectricCar(\"Car\", \"Tesla\", \"Model S\", 100)\n",
        "electric_car.display_details()\n",
        "\n"
      ],
      "metadata": {
        "colab": {
          "base_uri": "https://localhost:8080/"
        },
        "id": "ZR5mkORUm91Z",
        "outputId": "a9215dd2-321a-4155-e0c1-058762b3a0cc"
      },
      "execution_count": 9,
      "outputs": [
        {
          "output_type": "stream",
          "name": "stdout",
          "text": [
            "Vehicle Type: Car\n",
            "Brand: Tesla\n",
            "Model: Model S\n",
            "Battery Capacity: 100 kWh\n"
          ]
        }
      ]
    },
    {
      "cell_type": "markdown",
      "source": [
        "4.Demonstrate polymorphism by creating a base class Bird with a method fly(). Create two derived classes\n",
        "Sparrow and Penguin that override the fly() method.\n"
      ],
      "metadata": {
        "id": "O8FKs75Gn9QM"
      }
    },
    {
      "cell_type": "code",
      "source": [
        "class Bird:\n",
        "    def fly(self):\n",
        "        print(\"The bird flies.\")\n",
        "\n",
        "class Sparrow(Bird):\n",
        "    def fly(self):\n",
        "        print(\"The sparrow flies swiftly.\")\n",
        "\n",
        "class Penguin(Bird):\n",
        "    def fly(self):\n",
        "        print(\"Penguins cannot fly, they swim instead.\")\n",
        "\n",
        "# Example usage\n",
        "birds = [Sparrow(), Penguin(), Sparrow()]\n",
        "\n",
        "for bird in birds:\n",
        "    bird.fly()\n"
      ],
      "metadata": {
        "colab": {
          "base_uri": "https://localhost:8080/"
        },
        "id": "r6Io0wgtoIWl",
        "outputId": "58f2d808-467e-48c4-f86f-6a26706bba2c"
      },
      "execution_count": 10,
      "outputs": [
        {
          "output_type": "stream",
          "name": "stdout",
          "text": [
            "The sparrow flies swiftly.\n",
            "Penguins cannot fly, they swim instead.\n",
            "The sparrow flies swiftly.\n"
          ]
        }
      ]
    },
    {
      "cell_type": "markdown",
      "source": [
        "5.Write a program to demonstrate encapsulation by creating a class BankAccount with private attributes\n",
        "balance and methods to deposit, withdraw, and check balance"
      ],
      "metadata": {
        "id": "rcO7NY6iob4j"
      }
    },
    {
      "cell_type": "code",
      "source": [
        "class BankAccount:\n",
        "    def __init__(self, initial_balance=0):\n",
        "        self.__balance = initial_balance\n",
        "\n",
        "    def deposit(self, amount):\n",
        "        if amount > 0:\n",
        "            self.__balance += amount\n",
        "            print(f\"Deposited {amount}. New balance: {self.__balance}\")\n",
        "        else:\n",
        "            print(\"Invalid deposit amount.\")\n",
        "\n",
        "    def withdraw(self, amount):\n",
        "        if 0 < amount <= self.__balance:\n",
        "            self.__balance -= amount\n",
        "            print(f\"Withdrew {amount}. New balance: {self.__balance}\")\n",
        "        elif amount <= 0:\n",
        "            print(\"Invalid withdrawal amount.\")\n",
        "        else:\n",
        "            print(\"Insufficient balance.\")\n",
        "\n",
        "    def check_balance(self):\n",
        "        print(f\"Current balance: {self.__balance}\")\n"
      ],
      "metadata": {
        "id": "X_-LRhI2sxHu"
      },
      "execution_count": 11,
      "outputs": []
    },
    {
      "cell_type": "code",
      "source": [
        "account = BankAccount(1000)\n",
        "account.check_balance()\n",
        "account.deposit(500)\n",
        "account.withdraw(200)\n",
        "account.check_balance()"
      ],
      "metadata": {
        "colab": {
          "base_uri": "https://localhost:8080/"
        },
        "id": "2VhzCzOktIIb",
        "outputId": "4998f406-e51b-498c-cbbf-000f015424e3"
      },
      "execution_count": 12,
      "outputs": [
        {
          "output_type": "stream",
          "name": "stdout",
          "text": [
            "Current balance: 1000\n",
            "Deposited 500. New balance: 1500\n",
            "Withdrew 200. New balance: 1300\n",
            "Current balance: 1300\n"
          ]
        }
      ]
    },
    {
      "cell_type": "code",
      "source": [],
      "metadata": {
        "id": "VX0r4BoBtMjH"
      },
      "execution_count": null,
      "outputs": []
    },
    {
      "cell_type": "markdown",
      "source": [
        "6.. Demonstrate runtime polymorphism using a method play() in a base class Instrument. Derive classes Guitar\n",
        "and Piano that implement their own version of play().\n",
        "\n",
        "\n"
      ],
      "metadata": {
        "id": "vfUL5FFvtc7H"
      }
    },
    {
      "cell_type": "code",
      "source": [
        "class Instrument:\n",
        "    def play(self):\n",
        "        print(\"The instrument is being played.\")\n",
        "\n",
        "class Guitar(Instrument):\n",
        "    def play(self):\n",
        "        print(\"The guitar is being strummed.\")\n",
        "\n",
        "class Piano(Instrument):\n",
        "    def play(self):\n",
        "        print(\"The piano is being played with fingers.\")\n",
        "\n",
        "# Example usage\n",
        "instruments = [Guitar(), Piano(), Guitar(), Piano()]\n",
        "\n",
        "for instrument in instruments:\n",
        "    instrument.play()"
      ],
      "metadata": {
        "colab": {
          "base_uri": "https://localhost:8080/"
        },
        "id": "O3qhwyfutqXx",
        "outputId": "8db89ba9-7a07-4b6e-e8ee-01f26636a7d4"
      },
      "execution_count": 13,
      "outputs": [
        {
          "output_type": "stream",
          "name": "stdout",
          "text": [
            "The guitar is being strummed.\n",
            "The piano is being played with fingers.\n",
            "The guitar is being strummed.\n",
            "The piano is being played with fingers.\n"
          ]
        }
      ]
    },
    {
      "cell_type": "code",
      "source": [],
      "metadata": {
        "id": "bOWQQ_Evt7Lb"
      },
      "execution_count": null,
      "outputs": []
    },
    {
      "cell_type": "markdown",
      "source": [
        "7.Create a class MathOperations with a class method add_numbers() to add two numbers and a static\n",
        "method subtract_numbers() to subtract two numbers."
      ],
      "metadata": {
        "id": "z57nwJqduB-E"
      }
    },
    {
      "cell_type": "code",
      "source": [
        "class MathOperations:\n",
        "    @classmethod\n",
        "    def add_numbers(cls, num1, num2):\n",
        "        return num1 + num2\n",
        "\n",
        "    @staticmethod\n",
        "    def subtract_numbers(num1, num2):\n",
        "        return num1 - num2\n",
        "\n",
        "# Example usage\n",
        "result_add = MathOperations.add_numbers(10, 5)\n",
        "print(f\"Addition result: {result_add}\")\n",
        "\n",
        "result_subtract = MathOperations.subtract_numbers(10, 5)\n",
        "print(f\"Subtraction result: {result_subtract}\")"
      ],
      "metadata": {
        "colab": {
          "base_uri": "https://localhost:8080/"
        },
        "id": "cj5IhXZGuayO",
        "outputId": "9ac5839f-05f5-4b46-9f5c-f0803cf3c3d4"
      },
      "execution_count": 14,
      "outputs": [
        {
          "output_type": "stream",
          "name": "stdout",
          "text": [
            "Addition result: 15\n",
            "Subtraction result: 5\n"
          ]
        }
      ]
    },
    {
      "cell_type": "markdown",
      "source": [
        "8. Implement a class Person with a class method to count the total number of persons created.\n",
        "\n",
        "\n"
      ],
      "metadata": {
        "id": "iZz8r_osvDto"
      }
    },
    {
      "cell_type": "code",
      "source": [
        "class Person:\n",
        "    total_persons = 0\n",
        "\n",
        "    def __init__(self, name, age):\n",
        "        self.name = name\n",
        "        self.age = age\n",
        "        Person.total_persons += 1\n",
        "\n",
        "    @classmethod\n",
        "    def count_persons(cls):\n",
        "        return cls.total_persons\n",
        "\n",
        "# Example usage\n",
        "person1 = Person(\"John\", 30)\n",
        "person2 = Person(\"Alice\", 25)\n",
        "person3 = Person(\"Bob\", 40)\n",
        "\n",
        "print(f\"Total persons: {Person.count_persons()}\")"
      ],
      "metadata": {
        "colab": {
          "base_uri": "https://localhost:8080/"
        },
        "id": "TxIHR2JBvHs4",
        "outputId": "65385ea6-c815-403e-b97b-898870ba376d"
      },
      "execution_count": 15,
      "outputs": [
        {
          "output_type": "stream",
          "name": "stdout",
          "text": [
            "Total persons: 3\n"
          ]
        }
      ]
    },
    {
      "cell_type": "markdown",
      "source": [
        " 9.Write a class Fraction with attributes numerator and denominator. Override the str method to display the\n",
        "fraction as \"numerator/denominator\".\n"
      ],
      "metadata": {
        "id": "YTNZDv1_v2Vd"
      }
    },
    {
      "cell_type": "code",
      "source": [
        "class Fraction:\n",
        "    def __init__(self, numerator, denominator):\n",
        "        if denominator == 0:\n",
        "            raise ValueError(\"Denominator cannot be zero\")\n",
        "        self.numerator = numerator\n",
        "        self.denominator = denominator\n",
        "\n",
        "    def __str__(self):\n",
        "        return f\"{self.numerator}/{self.denominator}\""
      ],
      "metadata": {
        "id": "r9N9hdaKv7r9"
      },
      "execution_count": 16,
      "outputs": []
    },
    {
      "cell_type": "code",
      "source": [
        "fraction = Fraction(3, 4)\n",
        "print(fraction)  # Output: 3/4"
      ],
      "metadata": {
        "colab": {
          "base_uri": "https://localhost:8080/"
        },
        "id": "gAD0wzm-xHcQ",
        "outputId": "73583a60-e3b5-4e1a-b941-fd4bd9f1481c"
      },
      "execution_count": 17,
      "outputs": [
        {
          "output_type": "stream",
          "name": "stdout",
          "text": [
            "3/4\n"
          ]
        }
      ]
    },
    {
      "cell_type": "markdown",
      "source": [
        " 10.Demonstrate operator overloading by creating a class Vector and overriding the add method to add two\n",
        "vectors.\n"
      ],
      "metadata": {
        "id": "pri4Ak-Lxg6q"
      }
    },
    {
      "cell_type": "code",
      "source": [
        "class Vector:\n",
        "    def __init__(self, x, y):\n",
        "        self.x = x\n",
        "        self.y = y\n",
        "\n",
        "    def __add__(self, other):\n",
        "        return Vector(self.x + other.x, self.y + other.y)\n",
        "\n",
        "    def __str__(self):\n",
        "        return f\"({self.x}, {self.y})\"\n",
        "\n",
        "# Example usage\n",
        "vector1 = Vector(2, 3)\n",
        "vector2 = Vector(4, 5)"
      ],
      "metadata": {
        "id": "mvyY05zSxpaT"
      },
      "execution_count": 18,
      "outputs": []
    },
    {
      "cell_type": "code",
      "source": [
        "result = vector1 + vector2\n",
        "print(f\"Vector 1: {vector1}\")\n",
        "print(f\"Vector 2: {vector2}\")\n",
        "print(f\"Result: {result}\")\n",
        "\n"
      ],
      "metadata": {
        "colab": {
          "base_uri": "https://localhost:8080/"
        },
        "id": "SI10B4T9x9b9",
        "outputId": "8acf0aa5-c055-4a5e-8a9e-f5fbf8c590f0"
      },
      "execution_count": 19,
      "outputs": [
        {
          "output_type": "stream",
          "name": "stdout",
          "text": [
            "Vector 1: (2, 3)\n",
            "Vector 2: (4, 5)\n",
            "Result: (6, 8)\n"
          ]
        }
      ]
    },
    {
      "cell_type": "markdown",
      "source": [
        " 11.Create a class Person with attributes name and age. Add a method greet() that prints \"Hello, my name is\n",
        "{name} and I am {age} years old.\""
      ],
      "metadata": {
        "id": "kzEbro89yZTk"
      }
    },
    {
      "cell_type": "code",
      "source": [
        "class Person:\n",
        "    def __init__(self, name, age):\n",
        "        self.name = name\n",
        "        self.age = age\n",
        "\n",
        "    def greet(self):\n",
        "        print(f\"Hello, my name is {self.name} and I am {self.age} years old.\")\n",
        "\n",
        "# Example usage\n",
        "person = Person(\"John\", 30)\n",
        "person.greet()"
      ],
      "metadata": {
        "colab": {
          "base_uri": "https://localhost:8080/"
        },
        "id": "12oGNZSwycZL",
        "outputId": "8a255986-03ec-43d5-da50-ebe08f570a60"
      },
      "execution_count": 20,
      "outputs": [
        {
          "output_type": "stream",
          "name": "stdout",
          "text": [
            "Hello, my name is John and I am 30 years old.\n"
          ]
        }
      ]
    },
    {
      "cell_type": "code",
      "source": [],
      "metadata": {
        "id": "MTDOZfLwyzeu"
      },
      "execution_count": null,
      "outputs": []
    },
    {
      "cell_type": "markdown",
      "source": [
        "12.Implement a class Student with attributes name and grades. Create a method average_grade() to compute\n",
        "the average of the grades."
      ],
      "metadata": {
        "id": "WcOh25zty7P_"
      }
    },
    {
      "cell_type": "code",
      "source": [
        "class Student:\n",
        "    def __init__(self, name, grades=None):\n",
        "        self.name = name\n",
        "        self.grades = grades if grades is not None else []\n",
        "\n",
        "    def average_grade(self):\n",
        "        if not self.grades:\n",
        "            return 0\n",
        "        return sum(self.grades) / len(self.grades)\n",
        "\n",
        "# Example usage\n",
        "student = Student(\"John\", [90, 85, 95, 92])\n",
        "print(f\"Student Name: {student.name}\")\n",
        "print(f\"Grades: {student.grades}\")\n",
        "print(f\"Average Grade: {student.average_grade():.2f}\")"
      ],
      "metadata": {
        "colab": {
          "base_uri": "https://localhost:8080/"
        },
        "id": "SddJzMZry8Sz",
        "outputId": "b963db94-57b7-49bd-f81c-3bb5a6f518d1"
      },
      "execution_count": 21,
      "outputs": [
        {
          "output_type": "stream",
          "name": "stdout",
          "text": [
            "Student Name: John\n",
            "Grades: [90, 85, 95, 92]\n",
            "Average Grade: 90.50\n"
          ]
        }
      ]
    },
    {
      "cell_type": "code",
      "source": [],
      "metadata": {
        "id": "u__wpCHlzcAj"
      },
      "execution_count": null,
      "outputs": []
    },
    {
      "cell_type": "markdown",
      "source": [
        "13. Create a class Rectangle with methods set_dimensions() to set the dimensions and area() to calculate the\n",
        "area."
      ],
      "metadata": {
        "id": "EiLIFcjuzmmI"
      }
    },
    {
      "cell_type": "code",
      "source": [
        "class Rectangle:\n",
        "    def __init__(self, width=0, height=0):\n",
        "        self.width = width\n",
        "        self.height = height\n",
        "\n",
        "    def set_dimensions(self, width, height):\n",
        "        self.width = width\n",
        "        self.height = height\n",
        "\n",
        "    def area(self):\n",
        "        return self.width * self.height\n",
        "\n",
        "# Example usage\n",
        "rectangle = Rectangle()\n",
        "rectangle.set_dimensions(5, 10)\n",
        "print(f\"Width: {rectangle.width}\")\n",
        "print(f\"Height: {rectangle.height}\")\n",
        "print(f\"Area: {rectangle.area()}\")\n",
        "\n"
      ],
      "metadata": {
        "colab": {
          "base_uri": "https://localhost:8080/"
        },
        "id": "fOxTGJKI0Nj5",
        "outputId": "5a54ef0b-e67f-41c4-b77d-15398a92b192"
      },
      "execution_count": 22,
      "outputs": [
        {
          "output_type": "stream",
          "name": "stdout",
          "text": [
            "Width: 5\n",
            "Height: 10\n",
            "Area: 50\n"
          ]
        }
      ]
    },
    {
      "cell_type": "markdown",
      "source": [
        "14.Create a class Employee with a method calculate_salary() that computes the salary based on hours worked\n",
        "and hourly rate. Create a derived class Manager that adds a bonus to the salary"
      ],
      "metadata": {
        "id": "s7V-FMMa18o0"
      }
    },
    {
      "cell_type": "code",
      "source": [
        "class Employee:\n",
        "    def __init__(self, name, hourly_rate):\n",
        "        self.name = name\n",
        "        self.hourly_rate = hourly_rate\n",
        "        self.hours_worked = 0\n",
        "\n",
        "    def calculate_salary(self):\n",
        "        return self.hours_worked * self.hourly_rate\n",
        "\n",
        "    def log_hours(self, hours):\n",
        "        self.hours_worked += hours\n",
        "\n",
        "class Manager(Employee):\n",
        "    def __init__(self, name, hourly_rate, bonus):\n",
        "        super().__init__(name, hourly_rate)\n",
        "        self.bonus = bonus\n",
        "\n",
        "    def calculate_salary(self):\n",
        "        return super().calculate_salary() + self.bonus"
      ],
      "metadata": {
        "id": "d78H3BCt1-Ha"
      },
      "execution_count": 1,
      "outputs": []
    },
    {
      "cell_type": "code",
      "source": [
        "employee = Employee(\"John\", 50)\n",
        "employee.log_hours(40)\n",
        "print(f\"Employee Name: {employee.name}\")\n",
        "print(f\"Employee Salary: ${employee.calculate_salary():.2f}\")"
      ],
      "metadata": {
        "colab": {
          "base_uri": "https://localhost:8080/"
        },
        "id": "f__CvRO3KE-z",
        "outputId": "cca59747-9d3e-475a-93db-1c041343039d"
      },
      "execution_count": 2,
      "outputs": [
        {
          "output_type": "stream",
          "name": "stdout",
          "text": [
            "Employee Name: John\n",
            "Employee Salary: $2000.00\n"
          ]
        }
      ]
    },
    {
      "cell_type": "code",
      "source": [
        "manager = Manager(\"Jane\", 75, 1000)\n",
        "manager.log_hours(40)\n",
        "print(f\"\\nManager Name: {manager.name}\")"
      ],
      "metadata": {
        "colab": {
          "base_uri": "https://localhost:8080/"
        },
        "id": "bxyxqVsfKSsM",
        "outputId": "97408ba6-1654-4808-b5cc-d9b5990777dc"
      },
      "execution_count": 3,
      "outputs": [
        {
          "output_type": "stream",
          "name": "stdout",
          "text": [
            "\n",
            "Manager Name: Jane\n"
          ]
        }
      ]
    },
    {
      "cell_type": "code",
      "source": [],
      "metadata": {
        "id": "EY97U0GmKY0t"
      },
      "execution_count": null,
      "outputs": []
    },
    {
      "cell_type": "markdown",
      "source": [
        "15. Create a class Product with attributes name, price, and quantity. Implement a method total_price() that\n",
        "calculates the total price of the product.\n",
        "\n",
        "\n"
      ],
      "metadata": {
        "id": "cNP3toD7L5NP"
      }
    },
    {
      "cell_type": "code",
      "source": [
        "class Product:\n",
        "    def __init__(self, name, price, quantity):\n",
        "        self.name = name\n",
        "        self.price = price\n",
        "        self.quantity = quantity\n",
        "\n",
        "    def total_price(self):\n",
        "        return self.price * self.quantity\n"
      ],
      "metadata": {
        "id": "v3jijSqbL69d"
      },
      "execution_count": 4,
      "outputs": []
    },
    {
      "cell_type": "code",
      "source": [
        "product = Product(\"Laptop\", 1000, 5)\n",
        "print(f\"Product Name: {product.name}\")\n",
        "print(f\"Price: ${product.price}\")\n",
        "print(f\"Quantity: {product.quantity}\")\n",
        "print(f\"Total Price: ${product.total_price()}\")"
      ],
      "metadata": {
        "colab": {
          "base_uri": "https://localhost:8080/"
        },
        "id": "bwBzg2zJMJ_i",
        "outputId": "e57e9131-a7e7-4bab-d28c-7d6993330f33"
      },
      "execution_count": 5,
      "outputs": [
        {
          "output_type": "stream",
          "name": "stdout",
          "text": [
            "Product Name: Laptop\n",
            "Price: $1000\n",
            "Quantity: 5\n",
            "Total Price: $5000\n"
          ]
        }
      ]
    },
    {
      "cell_type": "code",
      "source": [],
      "metadata": {
        "id": "OtcwiWu7MNzh"
      },
      "execution_count": null,
      "outputs": []
    },
    {
      "cell_type": "markdown",
      "source": [
        "16. Create a class Animal with an abstract method sound(). Create two derived classes Cow and Sheep that\n",
        "implement the sound() method."
      ],
      "metadata": {
        "id": "MPSZC89aMT8F"
      }
    },
    {
      "cell_type": "code",
      "source": [
        "from abc import ABC, abstractmethod\n",
        "\n",
        "class Animal(ABC):\n",
        "    @abstractmethod\n",
        "    def sound(self):\n",
        "        pass\n",
        "\n",
        "class Cow(Animal):\n",
        "    def sound(self):\n",
        "        return \"Moo\"\n",
        "\n",
        "class Sheep(Animal):\n",
        "    def sound(self):\n",
        "        return \"Baa\""
      ],
      "metadata": {
        "id": "_KIUgMAHMn4F"
      },
      "execution_count": 6,
      "outputs": []
    },
    {
      "cell_type": "code",
      "source": [
        "cow = Cow()\n",
        "sheep = Sheep()\n",
        "\n",
        "print(f\"Cow says: {cow.sound()}\")\n",
        "print(f\"Sheep says: {sheep.sound()}\")\n",
        "\n"
      ],
      "metadata": {
        "colab": {
          "base_uri": "https://localhost:8080/"
        },
        "id": "6Af1r-xdNFSq",
        "outputId": "7a140e6e-8e9a-44c8-85d5-9ec48a69ed43"
      },
      "execution_count": 7,
      "outputs": [
        {
          "output_type": "stream",
          "name": "stdout",
          "text": [
            "Cow says: Moo\n",
            "Sheep says: Baa\n"
          ]
        }
      ]
    },
    {
      "cell_type": "markdown",
      "source": [
        " 17.Create a class Book with attributes title, author, and year_published. Add a method get_book_info() that\n",
        "returns a formatted string with the book's details."
      ],
      "metadata": {
        "id": "_nWZbXcYNm0R"
      }
    },
    {
      "cell_type": "code",
      "source": [
        "class Book:\n",
        "    def __init__(self, title, author, year_published):\n",
        "        self.title = title\n",
        "        self.author = author\n",
        "        self.year_published = year_published\n",
        "\n",
        "    def get_book_info(self):\n",
        "        return f\"'{self.title}' by {self.author}, published in {self.year_published}\"\n",
        "\n",
        "# Example usage\n",
        "book = Book(\"To Kill a Mockingbird\", \"Harper Lee\", 1960)\n",
        "print(book.get_book_info())"
      ],
      "metadata": {
        "colab": {
          "base_uri": "https://localhost:8080/"
        },
        "id": "CFbDPSLbNn45",
        "outputId": "6212fd26-1644-4289-e23a-3159ed19c51b"
      },
      "execution_count": 9,
      "outputs": [
        {
          "output_type": "stream",
          "name": "stdout",
          "text": [
            "'To Kill a Mockingbird' by Harper Lee, published in 1960\n"
          ]
        }
      ]
    },
    {
      "cell_type": "code",
      "source": [],
      "metadata": {
        "id": "1wnpRmzGN9X4"
      },
      "execution_count": null,
      "outputs": []
    },
    {
      "cell_type": "markdown",
      "source": [
        " 18.Create a class House with attributes address and price. Create a derived class Mansion that adds an\n",
        "attribute number_of_rooms."
      ],
      "metadata": {
        "id": "RfG99AwLOWBH"
      }
    },
    {
      "cell_type": "code",
      "source": [
        "class House:\n",
        "    def __init__(self, address, price):\n",
        "        self.address = address\n",
        "        self.price = price\n",
        "\n",
        "    def get_house_info(self):\n",
        "        return f\"Address: {self.address}, Price: ${self.price}\"\n",
        "\n",
        "class Mansion(House):\n",
        "    def __init__(self, address, price, number_of_rooms):\n",
        "        super().__init__(address, price)\n",
        "        self.number_of_rooms = number_of_rooms\n",
        "\n",
        "    def get_house_info(self):\n",
        "        return f\"{super().get_house_info()}, Number of Rooms: {self.number_of_rooms}\""
      ],
      "metadata": {
        "id": "7SOzhTU7OZ7o"
      },
      "execution_count": 10,
      "outputs": []
    },
    {
      "cell_type": "code",
      "source": [
        "house = House(\"123 Main St\", 500000)\n",
        "print(house.get_house_info())\n",
        "\n",
        "mansion = Mansion(\"456 Luxury Dr\", 5000000, 10)\n",
        "print(mansion.get_house_info())"
      ],
      "metadata": {
        "colab": {
          "base_uri": "https://localhost:8080/"
        },
        "id": "9s2IoTl6Oslt",
        "outputId": "a59eb36c-8979-4fbf-eb64-610e0002dee5"
      },
      "execution_count": 11,
      "outputs": [
        {
          "output_type": "stream",
          "name": "stdout",
          "text": [
            "Address: 123 Main St, Price: $500000\n",
            "Address: 456 Luxury Dr, Price: $5000000, Number of Rooms: 10\n"
          ]
        }
      ]
    },
    {
      "cell_type": "code",
      "source": [],
      "metadata": {
        "id": "RfSDVTxPOw1I"
      },
      "execution_count": null,
      "outputs": []
    }
  ]
}